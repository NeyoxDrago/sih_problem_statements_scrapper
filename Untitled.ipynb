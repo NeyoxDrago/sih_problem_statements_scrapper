{
 "cells": [
  {
   "cell_type": "code",
   "execution_count": 3,
   "metadata": {},
   "outputs": [],
   "source": [
    "from bs4 import BeautifulSoup as bs4"
   ]
  },
  {
   "cell_type": "code",
   "execution_count": 115,
   "metadata": {},
   "outputs": [],
   "source": [
    "url_ = \"https://www.sih.gov.in/sih2020PS?page={}\""
   ]
  },
  {
   "cell_type": "code",
   "execution_count": 119,
   "metadata": {},
   "outputs": [
    {
     "name": "stderr",
     "output_type": "stream",
     "text": [
      "100%|██████████████████████████████████████████████████████████████████████████████████| 23/23 [00:13<00:00,  1.71it/s]\n"
     ]
    }
   ],
   "source": [
    "import requests\n",
    "table_data = []\n",
    "from tqdm import tqdm\n",
    "for i in tqdm(range(1,24)):\n",
    "    html = requests.get(url_.format(i)).text\n",
    "    soup = bs4(html,\"lxml\")\n",
    "    table = soup.find(\"table\")\n",
    "    import pandas as pd\n",
    "    data = pd.read_html(table.prettify())\n",
    "    data = data[0]\n",
    "    data = data[data.Logo == '×']\n",
    "    for i,row in data.iterrows():\n",
    "        temp = [row.Logo,row.Organization,row['Problem Statement Title'],row['PS Number'],row['Unnamed: 16'],row['Unnamed: 10'],row['Unnamed: 8'],row['Unnamed: 12'],row['Unnamed: 14']]\n",
    "        table_data.append(temp)"
   ]
  },
  {
   "cell_type": "code",
   "execution_count": 134,
   "metadata": {},
   "outputs": [],
   "source": [
    "df = pd.DataFrame(table_data,columns=['Logo', 'Organization', 'Problem Statement Title','Description',\n",
    "       'PS Number', 'Domain Bucket', 'Category', 'Youtube Link',\n",
    "       'Dataset Link'])\n",
    "dic={}\n",
    "\n",
    "for i in range(1,224):\n",
    "    try:\n",
    "        dic[\"{}\".format(i)]=df.iloc[i].to_json()\n",
    "    except Exception as e:\n",
    "        print(i)\n",
    "        break"
   ]
  }
 ],
 "metadata": {
  "kernelspec": {
   "display_name": "Python 3",
   "language": "python",
   "name": "python3"
  },
  "language_info": {
   "codemirror_mode": {
    "name": "ipython",
    "version": 3
   },
   "file_extension": ".py",
   "mimetype": "text/x-python",
   "name": "python",
   "nbconvert_exporter": "python",
   "pygments_lexer": "ipython3",
   "version": "3.6.8"
  }
 },
 "nbformat": 4,
 "nbformat_minor": 2
}
